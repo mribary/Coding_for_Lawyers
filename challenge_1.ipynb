{
  "cells": [
    {
      "cell_type": "code",
      "source": [
        "# Import packages\n",
        "import glob\n",
        "import os\n",
        "import re "
      ],
      "metadata": {
        "collapsed": true,
        "trusted": true
      },
      "execution_count": null,
      "outputs": []
    },
    {
      "cell_type": "code",
      "source": [
        "# Load path of txt files in the 'texts' directory into a list\n",
        "path = 'texts'\n",
        "file_list = glob.glob(os.path.join(path, '*.txt'))\n",
        "print(file_list)"
      ],
      "metadata": {
        "trusted": true
      },
      "execution_count": null,
      "outputs": []
    },
    {
      "cell_type": "code",
      "source": [
        "# Initialize an empty list for texts\n",
        "texts = []"
      ],
      "metadata": {
        "trusted": true
      },
      "execution_count": null,
      "outputs": []
    },
    {
      "cell_type": "code",
      "source": [
        "# Loop over the txt files and load their content into 'texts'\n",
        "for file_path in file_list:\n",
        "    with open(file_path) as content:\n",
        "        texts.append(content.read())"
      ],
      "metadata": {
        "trusted": true
      },
      "execution_count": null,
      "outputs": []
    },
    {
      "cell_type": "code",
      "source": [
        "# Print the list of texts\n",
        "print(texts)"
      ],
      "metadata": {
        "trusted": true
      },
      "execution_count": null,
      "outputs": []
    },
    {
      "cell_type": "code",
      "source": [
        "# Print the fourth text from the list of texts (index: 3)\n",
        "print(texts[3])"
      ],
      "metadata": {
        "trusted": true
      },
      "execution_count": null,
      "outputs": []
    },
    {
      "cell_type": "code",
      "source": [
        "# Extract the neutral citation from the fourth text (index: 3)\n",
        "citation = re.search('\\[.+', texts[3])"
      ],
      "metadata": {
        "trusted": true
      },
      "execution_count": null,
      "outputs": []
    },
    {
      "cell_type": "code",
      "source": [
        "# Print the match object\n",
        "print(citation)"
      ],
      "metadata": {
        "trusted": true
      },
      "execution_count": null,
      "outputs": []
    },
    {
      "cell_type": "code",
      "source": [
        "# Get the string value from the match object by the group method\n",
        "citation.group(0)"
      ],
      "metadata": {
        "trusted": true
      },
      "execution_count": null,
      "outputs": []
    },
    {
      "cell_type": "code",
      "source": [
        "# Remove trailing white space with the strip method\n",
        "citation.group(0).strip()"
      ],
      "metadata": {
        "trusted": true
      },
      "execution_count": null,
      "outputs": []
    },
    {
      "cell_type": "code",
      "source": [
        "# Generalize citation extraction in a loop\n",
        "citations = []\n",
        "for text in texts:\n",
        "    citation = re.search('\\[.+', text)\n",
        "    citations.append(citation.group(0).strip())\n",
        "print(citations)"
      ],
      "metadata": {
        "trusted": true
      },
      "execution_count": null,
      "outputs": []
    },
    {
      "cell_type": "code",
      "source": [
        "# Extract the date from the second text (index: 1)\n",
        "date = re.search('(GIVEN\\sON\\s)(\\d+.+)', texts[1])"
      ],
      "metadata": {
        "trusted": true
      },
      "execution_count": null,
      "outputs": []
    },
    {
      "cell_type": "code",
      "source": [
        "# Note the output: 'GIVEN ON` and date on the same line\n",
        "print(date)"
      ],
      "metadata": {
        "trusted": true
      },
      "execution_count": null,
      "outputs": []
    },
    {
      "cell_type": "code",
      "source": [
        "# Extract the date from the fourth text (index: 3)\n",
        "date = re.search('(GIVEN\\sON\\s)(\\d+.+)', texts[3])"
      ],
      "metadata": {
        "trusted": true
      },
      "execution_count": null,
      "outputs": []
    },
    {
      "cell_type": "code",
      "source": [
        "# Note the output: 'GIVEN ON` and date separated by two new line breaks\n",
        "print(date)"
      ],
      "metadata": {
        "trusted": true
      },
      "execution_count": null,
      "outputs": []
    },
    {
      "cell_type": "code",
      "execution_count": null,
      "metadata": {},
      "outputs": [],
      "source": [
        "print(texts[3])"
      ]
    },
    {
      "cell_type": "code",
      "execution_count": null,
      "metadata": {},
      "outputs": [],
      "source": [
        "# Adjust the pattern to extract the date from the second text (index: 1)\n",
        "date = re.search('(GIVEN\\sON\\s(\\n)*)(\\d+.+)', texts[1])"
      ]
    },
    {
      "cell_type": "code",
      "execution_count": null,
      "metadata": {},
      "outputs": [],
      "source": [
        "print(date)"
      ]
    },
    {
      "cell_type": "code",
      "execution_count": null,
      "metadata": {},
      "outputs": [],
      "source": [
        "# Adjust the pattern to extract the date from the fourth text (index: 3)\n",
        "date = re.search('(GIVEN\\sON\\s(\\n)*)(\\d+.+)', texts[3])"
      ]
    },
    {
      "cell_type": "code",
      "execution_count": null,
      "metadata": {},
      "outputs": [],
      "source": [
        "print(date)"
      ]
    },
    {
      "cell_type": "code",
      "source": [
        "# Inspect the matched values\n",
        "# 0 for whole match, 1 for first sub-match, 2 for second sub-math, 3 for third sub-match\n",
        "date.groups()"
      ],
      "metadata": {
        "trusted": true
      },
      "execution_count": null,
      "outputs": []
    },
    {
      "cell_type": "code",
      "source": [
        "# Get the sub-match for date\n",
        "date.group(3)"
      ],
      "metadata": {
        "trusted": true
      },
      "execution_count": null,
      "outputs": []
    },
    {
      "cell_type": "code",
      "source": [
        "# Remove trailing white space with the strip method\n",
        "date.group(3).strip()"
      ],
      "metadata": {
        "trusted": true
      },
      "execution_count": null,
      "outputs": []
    },
    {
      "cell_type": "code",
      "source": [
        "# Generalize date extraction in a loop\n",
        "dates = []\n",
        "for text in texts:\n",
        "    date = re.search('(GIVEN\\sON\\s(\\n)*)(\\d+.+)', text)\n",
        "    dates.append(date.group(3).strip())\n",
        "print(dates)"
      ],
      "metadata": {
        "trusted": true
      },
      "execution_count": null,
      "outputs": []
    },
    {
      "cell_type": "code",
      "execution_count": null,
      "metadata": {},
      "outputs": [],
      "source": [
        "# Extract the names of judges from the fourth text (index: 3)\n",
        "names = re.findall('(Lord|Lady)\\s([A-Z][a-z]+)', texts[3])"
      ]
    },
    {
      "cell_type": "code",
      "execution_count": null,
      "metadata": {},
      "outputs": [],
      "source": [
        "names"
      ]
    },
    {
      "cell_type": "code",
      "execution_count": null,
      "metadata": {},
      "outputs": [],
      "source": [
        "print(texts[3])"
      ]
    },
    {
      "cell_type": "code",
      "source": [
        "# Adjust the pattern to extract the names of judges from the fourth text (index: 3)\n",
        "names = re.findall('(?:\\n)(Lord|Lady)\\s([A-Z][a-z]+)', texts[3])"
      ],
      "metadata": {
        "trusted": true
      },
      "execution_count": null,
      "outputs": []
    },
    {
      "cell_type": "code",
      "source": [
        "# Inspect the matched values\n",
        "names"
      ],
      "metadata": {
        "trusted": true
      },
      "execution_count": null,
      "outputs": []
    },
    {
      "cell_type": "code",
      "source": [
        "name_list = []\n",
        "for x in names:\n",
        "    name = ' '.join(x)\n",
        "    name_list.append(name)"
      ],
      "metadata": {
        "trusted": true
      },
      "execution_count": null,
      "outputs": []
    },
    {
      "cell_type": "code",
      "source": [
        "# Generalize name extraction in a loop\n",
        "list_of_name_lists = []\n",
        "for text in texts:\n",
        "    names = re.findall('(?:\\n)(Lord|Lady)\\s([A-Z][a-z]+)', text)\n",
        "    name_list = []\n",
        "    for x in names:\n",
        "        name = ' '.join(x)\n",
        "        name_list.append(name)\n",
        "    list_of_name_lists.append(name_list)\n",
        "print(list_of_name_lists)"
      ],
      "metadata": {
        "trusted": true
      },
      "execution_count": null,
      "outputs": []
    },
    {
      "cell_type": "code",
      "source": [
        "# Build a dictionary object with citation and judges\n",
        "# Include their names and genders in a nested dictionary\n",
        "citation_judges = {}\n",
        "for i in range(len(list_of_name_lists)):\n",
        "    names = list_of_name_lists[i]\n",
        "    name_gender = {}\n",
        "    for j in range(len(names)):\n",
        "        if names[j].startswith('Lord'):\n",
        "            x, y = names[j], 'Male'\n",
        "            name_gender[x] = y\n",
        "        else:\n",
        "            x, y = names[j], 'Female'\n",
        "            name_gender[x] = y\n",
        "    p, q = citations[i], name_gender\n",
        "    citation_judges[p] = q\n",
        "print(citation_judges)"
      ],
      "metadata": {},
      "execution_count": null,
      "outputs": []
    }
  ],
  "metadata": {
    "kernelspec": {
      "display_name": "Python 3.7.5 64-bit",
      "name": "python37564bit13fddfa0140645c199f4c0ad8a176c2c",
      "language": "python"
    },
    "language_info": {
      "mimetype": "text/x-python",
      "nbconvert_exporter": "python",
      "name": "python",
      "pygments_lexer": "ipython3",
      "version": "3.8.2-final",
      "file_extension": ".py",
      "codemirror_mode": {
        "version": 3,
        "name": "ipython"
      }
    }
  },
  "nbformat": 4,
  "nbformat_minor": 2
}