{
  "metadata": {
    "kernelspec": {
      "display_name": "Python 3.6",
      "name": "python36",
      "language": "python"
    },
    "language_info": {
      "mimetype": "text/x-python",
      "nbconvert_exporter": "python",
      "name": "python",
      "pygments_lexer": "ipython3",
      "version": "3.6.6",
      "file_extension": ".py",
      "codemirror_mode": {
        "version": 3,
        "name": "ipython"
      }
    }
  },
  "nbformat_minor": 2,
  "nbformat": 4,
  "cells": [
    {
      "cell_type": "code",
      "source": "# Import packages\nimport glob\nimport os\nimport re ",
      "metadata": {
        "collapsed": true,
        "trusted": true
      },
      "execution_count": 1,
      "outputs": []
    },
    {
      "cell_type": "code",
      "source": "# Load path of txt files in the 'texts' directory into a list\npath = 'texts'\nfile_list = glob.glob(os.path.join(path, '*.txt'))\nprint(file_list)",
      "metadata": {
        "trusted": true
      },
      "execution_count": 2,
      "outputs": [
        {
          "text": "['texts/uksc-2018-0152-judgment.txt', 'texts/uksc-2019-0192-judgment.txt', 'texts/uksc-2009-0128-judgment.txt', 'texts/uksc-2015-0233-judgment.txt', 'texts/uksc-2009-0042-judgment.txt']\n",
          "name": "stdout",
          "output_type": "stream"
        }
      ]
    },
    {
      "cell_type": "code",
      "source": "# Initialize an empty list for texts\ntexts = []",
      "metadata": {
        "trusted": true
      },
      "execution_count": 3,
      "outputs": []
    },
    {
      "cell_type": "code",
      "source": "# Loop over the txt files and load their content into 'texts'\nfor file_path in file_list:\n    with open(file_path) as content:\n        texts.append(content.read())",
      "metadata": {
        "trusted": true
      },
      "execution_count": 4,
      "outputs": []
    },
    {
      "cell_type": "code",
      "source": "# Print the list of texts\nprint(texts)",
      "metadata": {
        "trusted": true
      },
      "execution_count": 5,
      "outputs": [
        {
          "text": "['Hilary Term \\n[2020] UKSC 15 \\nOn appeal from: [2018] EWCA Civ 1515 \\n\\nZipvit Ltd (Appellant) v Commissioners for Her Majesty’s Revenue and Customs (Respondent) \\n\\nJUDGMENT \\n\\nbefore  \\n\\nLord Hodge \\nLady Black \\nLord Briggs \\nLord Sales \\nLord Hamblen \\n\\nJUDGMENT GIVEN ON 1 April 2020 \\nHeard on 29 and 30 January 2020 ', '[2019] UKSC 41 \\nOn appeals from: [2019] EWHC 2381 (QB) \\nand [2019] CSIH 49 \\n\\nJUDGMENT \\n\\nR (on the application of Miller) (Appellant) v The \\nPrime Minister (Respondent) \\n\\nCherry and others (Respondents) v Advocate \\nGeneral for Scotland (Appellant) (Scotland) \\n\\nbefore  \\nLady Hale, President \\nLord Reed, Deputy President \\nLord Kerr \\nLord Wilson \\nLord Carnwath \\nLord Hodge \\nLady Black \\nLord Lloyd-Jones \\nLady Arden \\nLord Kitchin \\nLord Sales \\n\\nJUDGMENT GIVEN ON \\n\\n24 September 2019 \\n\\nHeard on 17, 18 and 19 September 2019 ', \"Hilary Term \\n[2010] UKSC 7 \\nOn appeal from: 2008 HCJAC 53 \\n\\nJUDGMENT \\n\\nMcInnes (Appellant) v Her Majesty's Advocate (Respondent) (Scotland)  \\n\\n\\nLord Hope, Deputy President \\n\\nbefore  \\n\\nLord Rodger \\nLord Walker \\nLord Brown \\nLord Kerr \\n\\nJUDGMENT GIVEN ON \\n\\n10 February 2010 \\n\\nHeard on 8 and 9 December 2009 \", 'Trinity Term \\n[2017] UKSC 51 \\nOn appeal from: [2015] EWCA Civ 935 \\n\\n\\nJUDGMENT \\n\\nR (on the application of UNISON) (Appellant) v Lord Chancellor (Respondent) \\n\\nbefore  \\n\\nLord Neuberger, President \\nLady Hale, Deputy President \\nLord Mance \\nLord Kerr \\nLord Wilson \\nLord Reed \\nLord Hughes \\n\\n \\nJUDGMENT GIVEN ON \\n\\n26 July 2017 \\n\\nHeard on 27 and 28 March 2017 ', 'Michaelmas Term \\n[2012] UKSC 43 \\nOn appeal from: [2009] EWCA Civ 281 \\n\\nJUDGMENT \\n\\nBritish Airways plc (Respondents) v Williams (Appellant) and others  \\n\\n\\nLord Hope, Deputy President \\n\\nbefore  \\n\\nLord Walker \\nLord Mance \\nLord Clarke  \\nLord Sumption \\n\\nJUDGMENT GIVEN ON \\n\\n17 October 2012 \\n\\nHeard on 23 July 2012 ']\n",
          "name": "stdout",
          "output_type": "stream"
        }
      ]
    },
    {
      "cell_type": "code",
      "source": "# Print the first text from the list of texts (index: 0)\nprint(texts[4])",
      "metadata": {
        "trusted": true
      },
      "execution_count": 6,
      "outputs": [
        {
          "text": "Michaelmas Term \n[2012] UKSC 43 \nOn appeal from: [2009] EWCA Civ 281 \n\nJUDGMENT \n\nBritish Airways plc (Respondents) v Williams (Appellant) and others  \n\n\nLord Hope, Deputy President \n\nbefore  \n\nLord Walker \nLord Mance \nLord Clarke  \nLord Sumption \n\nJUDGMENT GIVEN ON \n\n17 October 2012 \n\nHeard on 23 July 2012 \n",
          "name": "stdout",
          "output_type": "stream"
        }
      ]
    },
    {
      "cell_type": "code",
      "source": "# Extract the neutral citation from the fourth text (index: 4)\ncitation = re.search('\\[.+', texts[3])",
      "metadata": {
        "trusted": true
      },
      "execution_count": 7,
      "outputs": []
    },
    {
      "cell_type": "code",
      "source": "# Print the match object\nprint(citation)",
      "metadata": {
        "trusted": true
      },
      "execution_count": 8,
      "outputs": [
        {
          "text": "<_sre.SRE_Match object; span=(14, 29), match='[2017] UKSC 51 '>\n",
          "name": "stdout",
          "output_type": "stream"
        }
      ]
    },
    {
      "cell_type": "code",
      "source": "# Get the string value from the match object by the group method\ncitation.group(0)",
      "metadata": {
        "trusted": true
      },
      "execution_count": 9,
      "outputs": [
        {
          "execution_count": 9,
          "output_type": "execute_result",
          "data": {
            "text/plain": "'[2017] UKSC 51 '"
          },
          "metadata": {}
        }
      ]
    },
    {
      "cell_type": "code",
      "source": "# Remove trailing white space with the strip method\ncitation.group(0).strip()",
      "metadata": {
        "trusted": true
      },
      "execution_count": 10,
      "outputs": [
        {
          "execution_count": 10,
          "output_type": "execute_result",
          "data": {
            "text/plain": "'[2017] UKSC 51'"
          },
          "metadata": {}
        }
      ]
    },
    {
      "cell_type": "code",
      "source": "# Generalize citation extraction in a loop\ncitations = []\nfor text in texts:\n    citation = re.search('\\[.+', text)\n    citations.append(citation.group(0).strip())\nprint(citations)",
      "metadata": {
        "trusted": true
      },
      "execution_count": 11,
      "outputs": [
        {
          "text": "['[2020] UKSC 15', '[2019] UKSC 41', '[2010] UKSC 7', '[2017] UKSC 51', '[2012] UKSC 43']\n",
          "name": "stdout",
          "output_type": "stream"
        }
      ]
    },
    {
      "cell_type": "code",
      "source": "# Extract the date from the first text (index: 0)\ndate = re.search('(GIVEN\\sON\\s(\\n)*)(\\d+.+)', texts[0])",
      "metadata": {
        "trusted": true
      },
      "execution_count": 12,
      "outputs": []
    },
    {
      "cell_type": "code",
      "source": "# Note the output: 'GIVEN ON` and date on the same line\nprint(date)",
      "metadata": {
        "trusted": true
      },
      "execution_count": 13,
      "outputs": [
        {
          "text": "<_sre.SRE_Match object; span=(254, 276), match='GIVEN ON 1 April 2020 '>\n",
          "name": "stdout",
          "output_type": "stream"
        }
      ]
    },
    {
      "cell_type": "code",
      "source": "# Extract the date from the fourth text (index: 3)\ndate = re.search('(GIVEN\\sON\\s(\\n)*)(\\d+.+)', texts[3])",
      "metadata": {
        "trusted": true
      },
      "execution_count": 14,
      "outputs": []
    },
    {
      "cell_type": "code",
      "source": "# Note the output: 'GIVEN ON` and date separated by two new line breaks\nprint(date)",
      "metadata": {
        "trusted": true
      },
      "execution_count": 15,
      "outputs": [
        {
          "text": "<_sre.SRE_Match object; span=(296, 320), match='GIVEN ON \\n\\n26 July 2017 '>\n",
          "name": "stdout",
          "output_type": "stream"
        }
      ]
    },
    {
      "cell_type": "code",
      "source": "# Inspect the matched values\n# 0 for whole match, 1 for first sub-match, 2 for second sub-math, 3 for third sub-match\ndate.groups()",
      "metadata": {
        "trusted": true
      },
      "execution_count": 16,
      "outputs": [
        {
          "execution_count": 16,
          "output_type": "execute_result",
          "data": {
            "text/plain": "('GIVEN ON \\n\\n', '\\n', '26 July 2017 ')"
          },
          "metadata": {}
        }
      ]
    },
    {
      "cell_type": "code",
      "source": "# Get the sub-match for date\ndate.group(3)",
      "metadata": {
        "trusted": true
      },
      "execution_count": 17,
      "outputs": [
        {
          "execution_count": 17,
          "output_type": "execute_result",
          "data": {
            "text/plain": "'26 July 2017 '"
          },
          "metadata": {}
        }
      ]
    },
    {
      "cell_type": "code",
      "source": "# Remove trailing white space with the strip method\ndate.group(3).strip()",
      "metadata": {
        "trusted": true
      },
      "execution_count": 18,
      "outputs": [
        {
          "execution_count": 18,
          "output_type": "execute_result",
          "data": {
            "text/plain": "'26 July 2017'"
          },
          "metadata": {}
        }
      ]
    },
    {
      "cell_type": "code",
      "source": "# Generalize date extraction in a loop\ndates = []\nfor text in texts:\n    date = re.search('(GIVEN\\sON\\s(\\n)*)(\\d+.+)', text)\n    dates.append(date.group(3).strip())\nprint(dates)",
      "metadata": {
        "trusted": true
      },
      "execution_count": 19,
      "outputs": [
        {
          "text": "['1 April 2020', '24 September 2019', '10 February 2010', '26 July 2017', '17 October 2012']\n",
          "name": "stdout",
          "output_type": "stream"
        }
      ]
    },
    {
      "cell_type": "code",
      "source": "# Extract the names of judges from the first text (index: 0)\nnames = re.findall('(Lord|Lady)\\s([A-Z][a-z]+)', texts[4])",
      "metadata": {
        "trusted": true
      },
      "execution_count": null,
      "outputs": []
    },
    {
      "cell_type": "code",
      "source": "# Inspect the matched values\nnames",
      "metadata": {
        "trusted": true
      },
      "execution_count": null,
      "outputs": []
    },
    {
      "cell_type": "code",
      "source": "name_list = []\nfor x in names:\n    name = ' '.join(x)\n    name_list.append(name)",
      "metadata": {
        "trusted": true
      },
      "execution_count": null,
      "outputs": []
    },
    {
      "cell_type": "code",
      "source": "# Generalize name extraction in a loop\nlist_of_name_lists = []\nfor text in texts:\n    names = re.findall('(Lord|Lady)\\s([A-Z][a-z]+)', text)\n    name_list = []\n    for x in names:\n        name = ' '.join(x)\n        name_list.append(name)\n    list_of_name_lists.append(name_list)\nprint(list_of_name_lists)",
      "metadata": {
        "trusted": true
      },
      "execution_count": null,
      "outputs": []
    },
    {
      "cell_type": "code",
      "source": "",
      "metadata": {},
      "execution_count": null,
      "outputs": []
    }
  ]
}